{
 "cells": [
  {
   "cell_type": "raw",
   "id": "cc9f13f6-48aa-4217-ab2e-0d03b7317042",
   "metadata": {},
   "source": [
    "IMDB 영화 리뷰 데이터셋을 활용한 감정 분석\n",
    "- 긍정(Positive)과 부정(Nagative) 둘 중 한 가지 감정을 예측하여 결과를 출력"
   ]
  },
  {
   "cell_type": "code",
   "execution_count": 1,
   "id": "63c80f03-e401-4fd1-aa20-4e5cba73e6ca",
   "metadata": {},
   "outputs": [],
   "source": [
    "#필요한 라이브러리 가져오기\n",
    "import numpy as np\n",
    "import matplotlib.pyplot as plt\n",
    "from tensorflow.keras.datasets import imdb\n",
    "from sklearn.feature_extraction.text import TfidfVectorizer\n",
    "from sklearn.model_selection import train_test_split\n",
    "import xgboost as xgb\n",
    "from sklearn.metrics import accuracy_score, classification_report"
   ]
  },
  {
   "cell_type": "code",
   "execution_count": 3,
   "id": "313023d8-29ab-4edd-9298-7a678d8aeb82",
   "metadata": {},
   "outputs": [
    {
     "name": "stdout",
     "output_type": "stream",
     "text": [
      "훈련용 리뷰 개수: 25000\n",
      "테스트용 리뷰 개수: 25000\n",
      "카테고리(긍정/부정): 2\n"
     ]
    }
   ],
   "source": [
    "# IMDB 데이터셋 로드\n",
    "(X_train_raw, y_train_raw), (X_test_raw, y_test_raw) = imdb.load_data()\n",
    "\n",
    "print(f'훈련용 리뷰 개수: {len(X_train_raw)}')\n",
    "print(f'테스트용 리뷰 개수: {len(X_test_raw)}')\n",
    "\n",
    "num_classes = len(set(y_train_raw))\n",
    "print(f'카테고리(긍정/부정): {num_classes}')"
   ]
  },
  {
   "cell_type": "code",
   "execution_count": 5,
   "id": "c0e068b4-41f0-4b60-84fd-57054ee19313",
   "metadata": {},
   "outputs": [
    {
     "name": "stdout",
     "output_type": "stream",
     "text": [
      "단어 개수: 88584\n"
     ]
    }
   ],
   "source": [
    "# IMDB 데이터셋의 워드 인덱스 확인\n",
    "word_index = imdb.get_word_index()\n",
    "print(f\"단어 개수: {len(word_index)}\")  # 약 88,000개 단어"
   ]
  },
  {
   "cell_type": "code",
   "execution_count": null,
   "id": "10429d94-c504-4340-84a0-a1857c2bb8e0",
   "metadata": {},
   "outputs": [],
   "source": []
  }
 ],
 "metadata": {
  "kernelspec": {
   "display_name": "Python 3 (ipykernel)",
   "language": "python",
   "name": "python3"
  },
  "language_info": {
   "codemirror_mode": {
    "name": "ipython",
    "version": 3
   },
   "file_extension": ".py",
   "mimetype": "text/x-python",
   "name": "python",
   "nbconvert_exporter": "python",
   "pygments_lexer": "ipython3",
   "version": "3.12.4"
  }
 },
 "nbformat": 4,
 "nbformat_minor": 5
}
